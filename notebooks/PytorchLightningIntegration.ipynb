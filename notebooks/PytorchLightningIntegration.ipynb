{
 "cells": [
  {
   "cell_type": "code",
   "execution_count": null,
   "id": "d9e5cc4a-f7f5-437a-9418-14654b3f438f",
   "metadata": {},
   "outputs": [],
   "source": [
    "# Move to the SPVD directory(SPVD/notebooks)\n",
    "%cd .."
   ]
  },
  {
   "cell_type": "markdown",
   "id": "ab47b332-fedf-4c17-8260-e02a822c5e63",
   "metadata": {},
   "source": [
    "# SPVD with PytorchLightning\n",
    "\n",
    "This notebook includes all the essential code modifications needed to implement SPVD with PyTorch Lightning. These modifications have been exported into a Python script located at `models/lightningBase.py`.\n",
    "\n",
    "Additionally, we have provided the complete code for training, using, and testing the model. \n",
    "\n",
    "If you only want the training, inference, and testing pipeline you can find it in the `TrainGeneration` notebook.\n",
    "\n",
    "To export a python script from this notebook run:\n",
    "`python utils/notebook2py.py notebooks/PytorchLightningIntegration.ipynb models/lightningBase.py`"
   ]
  },
  {
   "cell_type": "markdown",
   "id": "c52a0459-3bc8-4c20-8d8b-6adf0c7cb4ed",
   "metadata": {},
   "source": [
    "# Pytorch Lightning Intergration"
   ]
  },
  {
   "cell_type": "markdown",
   "id": "42b18752-0a5b-4e22-a725-829ec8631644",
   "metadata": {},
   "source": [
    "## Imports"
   ]
  },
  {
   "cell_type": "code",
   "execution_count": null,
   "id": "be3a8f74-1b49-4c7c-890f-b202c5b67695",
   "metadata": {},
   "outputs": [],
   "source": [
    "#export\n",
    "import torch\n",
    "import torch.nn as nn\n",
    "import torch.nn.functional as F\n",
    "import lightning as L\n",
    "from abc import ABC, abstractmethod"
   ]
  },
  {
   "cell_type": "markdown",
   "id": "2716ebd3-2f35-40b7-9a69-4b8f52af4572",
   "metadata": {},
   "source": [
    "## Task\n",
    "Using taks allows for easy intergration of similar tasks, like Completion, Super-Resolution as proposed in the SPVD publication."
   ]
  },
  {
   "cell_type": "code",
   "execution_count": null,
   "id": "4442dbe7-6e91-4b81-870e-21a6e02fa1b3",
   "metadata": {},
   "outputs": [],
   "source": [
    "#export\n",
    "class Task(ABC):\n",
    "    @abstractmethod\n",
    "    def prep_data(self, batch):\n",
    "        pass\n",
    "    @abstractmethod\n",
    "    def loss_fn(self, pred, target):\n",
    "        pass"
   ]
  },
  {
   "cell_type": "code",
   "execution_count": null,
   "id": "2d6939a7-acdb-4cb9-96dd-8afa09d6bd3d",
   "metadata": {},
   "outputs": [],
   "source": [
    "#export\n",
    "class SparseGeneration(Task):\n",
    "    def prep_data(self, batch):\n",
    "        noisy_data, t, noise = batch['input'], batch['t'], batch['noise']\n",
    "        inp = (noisy_data, t)\n",
    "        return inp, noise.F\n",
    "    def loss_fn(self, preds, target):\n",
    "        return F.mse_loss(preds, target)"
   ]
  },
  {
   "cell_type": "markdown",
   "id": "90c6d57a-c635-402c-aae7-c780d5b13041",
   "metadata": {},
   "source": [
    "## DiffusionBase"
   ]
  },
  {
   "cell_type": "code",
   "execution_count": null,
   "id": "757b637e-ed7c-4f91-b7f8-e06ab2e77651",
   "metadata": {},
   "outputs": [],
   "source": [
    "#export \n",
    "class DiffusionBase(L.LightningModule):\n",
    "\n",
    "    def __init__(self, model, task=SparseGeneration(), lr=0.0002):\n",
    "        super().__init__()\n",
    "        self.model = model\n",
    "        self.task = task\n",
    "        self.learning_rate = lr\n",
    "        \n",
    "    def forward(self, x):\n",
    "        return self.model(x)\n",
    "    \n",
    "    def training_step(self, batch, batch_idx):\n",
    "        # get data from the batch\n",
    "        inp, target = self.task.prep_data(batch)\n",
    "\n",
    "        # activate the network for noise prediction\n",
    "        preds = self(inp)\n",
    "\n",
    "        # calculate the loss\n",
    "        loss = self.task.loss_fn(preds, target)\n",
    "\n",
    "        self.log('train_loss', loss, batch_size=self.tr_batch_size)\n",
    "        return loss\n",
    "\n",
    "    def validation_step(self, batch, batch_idx):\n",
    "        inp, target = self.task.prep_data(batch)\n",
    "        preds = self(inp)\n",
    "        loss = self.task.loss_fn(preds, target)\n",
    "        self.log('val_loss', loss, batch_size=self.vl_batch_size)\n",
    "\n",
    "    def configure_optimizers(self):\n",
    "        # Create the optimizer\n",
    "        optimizer = torch.optim.AdamW(self.parameters(), lr=self.learning_rate, weight_decay=0.05)\n",
    "\n",
    "        # Create a dummy scheduler (we will update `total_steps` later)\n",
    "        self.lr_scheduler = torch.optim.lr_scheduler.OneCycleLR(optimizer, max_lr=self.learning_rate, total_steps=1)\n",
    "\n",
    "        # Return optimizer and scheduler (scheduler will be updated in `on_fit_start`)\n",
    "        return [optimizer], [{'scheduler': self.lr_scheduler, 'interval': 'step'}]\n",
    "\n",
    "    # Setting the OneCycle scheduler correct number of steps at the start of the fit loop, where the dataloaders are available.\n",
    "    def on_train_start(self):\n",
    "        # Access the dataloader and calculate total steps\n",
    "        train_loader = self.trainer.train_dataloader  # Access the dataloader from the trainer\n",
    "        steps_per_epoch = len(train_loader)\n",
    "        total_steps = steps_per_epoch * self.trainer.max_epochs\n",
    "        \n",
    "        # Update the scheduler's `total_steps` dynamically\n",
    "        self.lr_scheduler.total_steps = total_steps\n",
    "\n",
    "        # Read the batch size for logging\n",
    "        self.tr_batch_size = self.trainer.train_dataloader.batch_size\n",
    "\n",
    "    def on_validation_start(self):\n",
    "        val_loader = self.trainer.val_dataloaders\n",
    "        if val_loader:\n",
    "            self.vl_batch_size = val_loader.batch_size"
   ]
  },
  {
   "cell_type": "markdown",
   "id": "d5a55649-1d4d-4d25-b7a5-7cb9d1897fa2",
   "metadata": {},
   "source": [
    "# Training"
   ]
  },
  {
   "cell_type": "code",
   "execution_count": null,
   "id": "906a35b1-ee70-4b9d-9aa4-934480da6909",
   "metadata": {},
   "outputs": [],
   "source": [
    "# Imports\n",
    "from models import SPVD\n",
    "from lightning.pytorch.callbacks import ModelCheckpoint\n",
    "from datasets.shapenet_pointflow_sparse import get_dataloaders\n",
    "path = \"/home/vvrbeast/Desktop/Giannis/Data/ShapeNetCore.v2.PC15k\"\n",
    "path = '/home/tourloid/Desktop/PhD/Data/ShapeNetCore.v2.PC15k/'\n",
    "\n",
    "#optimization for speed \n",
    "torch.set_float32_matmul_precision('medium')"
   ]
  },
  {
   "cell_type": "code",
   "execution_count": null,
   "id": "d7dbe134-d0d2-476f-a05a-a4ea3b857164",
   "metadata": {},
   "outputs": [],
   "source": [
    "model = DiffusionBase(SPVD())"
   ]
  },
  {
   "cell_type": "code",
   "execution_count": null,
   "id": "6d1e4418-6b9e-4b21-9e38-3cba8a58fda4",
   "metadata": {},
   "outputs": [],
   "source": [
    "categories = ['car']\n",
    "tr_dl, te_dl = get_dataloaders(path, categories)"
   ]
  },
  {
   "cell_type": "code",
   "execution_count": null,
   "id": "8afc678e-0247-4ee4-9f34-f8179062fac5",
   "metadata": {},
   "outputs": [],
   "source": [
    "checkpoint_callback = ModelCheckpoint(dirpath='checkpoints/')\n",
    "\n",
    "trainer = L.Trainer(\n",
    "    max_epochs=10, \n",
    "    gradient_clip_val=10.0, \n",
    "    callbacks=[checkpoint_callback]\n",
    ")"
   ]
  },
  {
   "cell_type": "code",
   "execution_count": null,
   "id": "2d543709-dee7-4e78-a12c-4d8195a61bb5",
   "metadata": {},
   "outputs": [],
   "source": [
    "trainer.fit(model=model, train_dataloaders=tr_dl, val_dataloaders=te_dl)"
   ]
  },
  {
   "cell_type": "markdown",
   "id": "3b3dce29-0ed1-46a1-bd31-06f431eef621",
   "metadata": {},
   "source": [
    "# Inference"
   ]
  },
  {
   "cell_type": "code",
   "execution_count": null,
   "id": "73fcdda9-bf96-4505-bae6-889b38938dc0",
   "metadata": {},
   "outputs": [],
   "source": [
    "# Imports\n",
    "from utils.schedulers import DDPMSparseSchedulerGPU\n",
    "from utils.visualization import quick_vis_batch\n",
    "from functools import partial\n",
    "vis_batch = partial(quick_vis_batch, x_offset = 8, y_offset=8)"
   ]
  },
  {
   "cell_type": "code",
   "execution_count": null,
   "id": "f963ca1a-9a59-4dca-af57-436f67b6fad1",
   "metadata": {},
   "outputs": [],
   "source": [
    "# Sending model to GPU and setting to eval mode:\n",
    "model = model.cuda().eval()"
   ]
  },
  {
   "cell_type": "code",
   "execution_count": null,
   "id": "9353c2d7-891d-4bb5-b1ca-02f8326ac09a",
   "metadata": {},
   "outputs": [],
   "source": [
    "ddpm_sched = DDPMSparseSchedulerGPU(n_steps=1000, beta_min=0.0001, beta_max=0.02, pres=1e-5)\n",
    "preds = ddpm_sched.sample(model.cuda(), 32, 2048)\n",
    "vis_batch(preds)"
   ]
  },
  {
   "cell_type": "markdown",
   "id": "edcdce04-52cf-4a09-ab47-0c7ee27f2cbf",
   "metadata": {},
   "source": [
    "# Test"
   ]
  },
  {
   "cell_type": "code",
   "execution_count": null,
   "id": "f8906916-ecce-416d-916d-41146234a3ed",
   "metadata": {},
   "outputs": [],
   "source": [
    "from test_generation import evaluate_gen"
   ]
  },
  {
   "cell_type": "code",
   "execution_count": null,
   "id": "825c7e80-7efc-4991-9711-febe76bf959e",
   "metadata": {},
   "outputs": [],
   "source": [
    "ddpm_sched = DDPMSparseSchedulerGPU(n_steps=1000, beta_min=0.0001, beta_max=0.02, sigma='coef_bt')\n",
    "evaluate_gen(path, model, ddpm_sched, save_path='./results/', cates=categories)"
   ]
  },
  {
   "cell_type": "code",
   "execution_count": null,
   "id": "49e9aa97-4a90-4889-bf7a-ffa8c21071e6",
   "metadata": {},
   "outputs": [],
   "source": [
    "ddpm_sched = DDPMSparseSchedulerGPU(n_steps=1000, beta_min=0.0001, beta_max=0.02, sigma='coef_bt')\n",
    "evaluate_gen(path, model, ddpm_sched, save_path='./results/', cates=categories)"
   ]
  },
  {
   "cell_type": "code",
   "execution_count": null,
   "id": "2297ae70-4169-4f08-a3ca-4f646be6fe4d",
   "metadata": {},
   "outputs": [],
   "source": [
    "ddpm_sched = DDPMSparseSchedulerGPU(n_steps=1000, beta_min=0.0001, beta_max=0.02, sigma='coef_bt')\n",
    "evaluate_gen(path, model, ddpm_sched, save_path='./results/', cates=categories)"
   ]
  },
  {
   "cell_type": "code",
   "execution_count": null,
   "id": "d909146c-d812-422a-8b84-3f6c629cfbe7",
   "metadata": {},
   "outputs": [],
   "source": []
  }
 ],
 "metadata": {
  "kernelspec": {
   "display_name": "Python 3 (ipykernel)",
   "language": "python",
   "name": "python3"
  },
  "language_info": {
   "codemirror_mode": {
    "name": "ipython",
    "version": 3
   },
   "file_extension": ".py",
   "mimetype": "text/x-python",
   "name": "python",
   "nbconvert_exporter": "python",
   "pygments_lexer": "ipython3",
   "version": "3.10.14"
  }
 },
 "nbformat": 4,
 "nbformat_minor": 5
}
