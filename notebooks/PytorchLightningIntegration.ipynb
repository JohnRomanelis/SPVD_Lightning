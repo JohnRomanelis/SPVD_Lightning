{
 "cells": [
  {
   "cell_type": "code",
   "execution_count": 1,
   "id": "d9e5cc4a-f7f5-437a-9418-14654b3f438f",
   "metadata": {},
   "outputs": [
    {
     "name": "stdout",
     "output_type": "stream",
     "text": [
      "/home/tourloid/Desktop/PhD/Code/SPVD_Lightning\n"
     ]
    }
   ],
   "source": [
    "# Move to the SPVD directory(SPVD/notebooks)\n",
    "%cd .."
   ]
  },
  {
   "cell_type": "markdown",
   "id": "42b18752-0a5b-4e22-a725-829ec8631644",
   "metadata": {},
   "source": [
    "# Imports"
   ]
  },
  {
   "cell_type": "code",
   "execution_count": 2,
   "id": "be3a8f74-1b49-4c7c-890f-b202c5b67695",
   "metadata": {},
   "outputs": [],
   "source": [
    "#export\n",
    "import torch\n",
    "import torch.nn as nn\n",
    "import torch.nn.functional as F\n",
    "import lightning as L\n",
    "from abc import ABC, abstractmethod"
   ]
  },
  {
   "cell_type": "markdown",
   "id": "2716ebd3-2f35-40b7-9a69-4b8f52af4572",
   "metadata": {},
   "source": [
    "# Task\n",
    "Using taks allows for easy intergration of similar tasks, like Completion, Super-Resolution as proposed in the SPVD publication."
   ]
  },
  {
   "cell_type": "code",
   "execution_count": 3,
   "id": "4442dbe7-6e91-4b81-870e-21a6e02fa1b3",
   "metadata": {},
   "outputs": [],
   "source": [
    "#export\n",
    "class Task(ABC):\n",
    "    @abstractmethod\n",
    "    def prep_data(self, batch):\n",
    "        pass\n",
    "    @abstractmethod\n",
    "    def loss_fn(self, pred, target):\n",
    "        pass"
   ]
  },
  {
   "cell_type": "code",
   "execution_count": 4,
   "id": "2d6939a7-acdb-4cb9-96dd-8afa09d6bd3d",
   "metadata": {},
   "outputs": [],
   "source": [
    "#export\n",
    "class SparseGeneration(Task):\n",
    "    def prep_data(self, batch):\n",
    "        noisy_data, t, noise = batch['input'], batch['t'], batch['noise']\n",
    "        inp = (noisy_data, t)\n",
    "        return inp, noise.F\n",
    "    def loss_fn(self, preds, target):\n",
    "        return F.mse_loss(preds, target)"
   ]
  },
  {
   "cell_type": "markdown",
   "id": "90c6d57a-c635-402c-aae7-c780d5b13041",
   "metadata": {},
   "source": [
    "# DiffusionBase"
   ]
  },
  {
   "cell_type": "code",
   "execution_count": 5,
   "id": "757b637e-ed7c-4f91-b7f8-e06ab2e77651",
   "metadata": {},
   "outputs": [],
   "source": [
    "#export \n",
    "class DiffusionBase(L.LightningModule):\n",
    "\n",
    "    def __init__(self, model, task=SparseGeneration()):\n",
    "        super().__init__()\n",
    "        self.model = model\n",
    "        self.task = task\n",
    "        \n",
    "    def forward(self, x):\n",
    "        return self.model(x)\n",
    "    \n",
    "    def training_step(self, batch, batch_idx):\n",
    "        # get data from the batch\n",
    "        inp, target = self.task.prep_data(batch)\n",
    "\n",
    "        # activate the network for noise prediction\n",
    "        preds = self(inp)\n",
    "\n",
    "        # calculate the loss\n",
    "        loss = self.task.loss_fn(preds, target)\n",
    "\n",
    "        #self.log('train_loss', loss)\n",
    "        return loss\n",
    "\n",
    "    def validation_step(self, batch, batch_idx):\n",
    "        inp, target = self.task.prep_data(batch)\n",
    "        preds = self(inp)\n",
    "        loss = self.task.loss_fn(preds, target)\n",
    "        self.log('val_loss', loss)\n",
    "\n",
    "    def configure_optimizers(self):\n",
    "        opt = torch.optim.AdamW(params=self.parameters() ,lr=0.0005, weight_decay=0.05)\n",
    "        # sched = LinearWarmupCosineAnnealingLR(opt, warmup_epochs=10, max_epochs=self.trainer.max_epochs, warmup_start_lr=1e-6, eta_min=1e-6)\n",
    "        return opt #[opt], [sched]"
   ]
  },
  {
   "cell_type": "markdown",
   "id": "d5a55649-1d4d-4d25-b7a5-7cb9d1897fa2",
   "metadata": {},
   "source": [
    "# Train a model using Lightning"
   ]
  },
  {
   "cell_type": "code",
   "execution_count": 6,
   "id": "609bed8d-7f86-4f1a-94ac-d25cda14f33f",
   "metadata": {},
   "outputs": [],
   "source": [
    "#optimization for speed \n",
    "torch.set_float32_matmul_precision('medium')"
   ]
  },
  {
   "cell_type": "code",
   "execution_count": 7,
   "id": "906a35b1-ee70-4b9d-9aa4-934480da6909",
   "metadata": {},
   "outputs": [],
   "source": [
    "from models import SPVD"
   ]
  },
  {
   "cell_type": "code",
   "execution_count": 8,
   "id": "d7dbe134-d0d2-476f-a05a-a4ea3b857164",
   "metadata": {},
   "outputs": [],
   "source": [
    "model = DiffusionBase(SPVD())"
   ]
  },
  {
   "cell_type": "code",
   "execution_count": 9,
   "id": "6d1e4418-6b9e-4b21-9e38-3cba8a58fda4",
   "metadata": {},
   "outputs": [
    {
     "name": "stdout",
     "output_type": "stream",
     "text": [
      "(1, 1, 1)\n",
      "Total number of data:2458\n",
      "Min number of points: (train)2048 (test)2048\n",
      "(1, 1, 1)\n",
      "Total number of data:352\n",
      "Min number of points: (train)2048 (test)2048\n"
     ]
    }
   ],
   "source": [
    "from datasets.shapenet_pointflow_sparse import get_dataloaders\n",
    "\n",
    "path = \"/home/vvrbeast/Desktop/Giannis/Data/ShapeNetCore.v2.PC15k\"\n",
    "path = '/home/tourloid/Desktop/PhD/Data/ShapeNetCore.v2.PC15k/'\n",
    "\n",
    "categories = ['car']\n",
    "\n",
    "tr_dl, te_dl = get_dataloaders(path, categories)"
   ]
  },
  {
   "cell_type": "code",
   "execution_count": 10,
   "id": "8afc678e-0247-4ee4-9f34-f8179062fac5",
   "metadata": {},
   "outputs": [
    {
     "name": "stderr",
     "output_type": "stream",
     "text": [
      "GPU available: True (cuda), used: True\n",
      "TPU available: False, using: 0 TPU cores\n",
      "HPU available: False, using: 0 HPUs\n",
      "/home/tourloid/anaconda3/envs/sparse/lib/python3.10/site-packages/lightning/pytorch/trainer/connectors/logger_connector/logger_connector.py:75: Starting from v1.9.0, `tensorboardX` has been removed as a dependency of the `lightning.pytorch` package, due to potential conflicts with other packages in the ML ecosystem. For this reason, `logger=True` will use `CSVLogger` as the default logger, unless the `tensorboard` or `tensorboardX` packages are found. Please `pip install lightning[extra]` or one of them to enable TensorBoard support by default\n"
     ]
    }
   ],
   "source": [
    "trainer = L.Trainer()"
   ]
  },
  {
   "cell_type": "code",
   "execution_count": null,
   "id": "2d543709-dee7-4e78-a12c-4d8195a61bb5",
   "metadata": {},
   "outputs": [
    {
     "name": "stderr",
     "output_type": "stream",
     "text": [
      "/home/tourloid/anaconda3/envs/sparse/lib/python3.10/site-packages/lightning/pytorch/loops/utilities.py:73: `max_epochs` was not set. Setting it to 1000 epochs. To train without an epoch limit, set `max_epochs=-1`.\n",
      "Missing logger folder: /home/tourloid/Desktop/PhD/Code/SPVD_Lightning/lightning_logs\n",
      "LOCAL_RANK: 0 - CUDA_VISIBLE_DEVICES: [0]\n",
      "\n",
      "  | Name  | Type    | Params | Mode \n",
      "------------------------------------------\n",
      "0 | model | SPVUnet | 32.9 M | train\n",
      "------------------------------------------\n",
      "32.9 M    Trainable params\n",
      "0         Non-trainable params\n",
      "32.9 M    Total params\n",
      "131.576   Total estimated model params size (MB)\n"
     ]
    },
    {
     "data": {
      "application/vnd.jupyter.widget-view+json": {
       "model_id": "",
       "version_major": 2,
       "version_minor": 0
      },
      "text/plain": [
       "Sanity Checking: |                                        | 0/? [00:00<?, ?it/s]"
      ]
     },
     "metadata": {},
     "output_type": "display_data"
    },
    {
     "name": "stderr",
     "output_type": "stream",
     "text": [
      "/home/tourloid/anaconda3/envs/sparse/lib/python3.10/site-packages/lightning/pytorch/utilities/data.py:78: Trying to infer the `batch_size` from an ambiguous collection. The batch size we found is 32. To avoid any miscalculations, use `self.log(..., batch_size=batch_size)`.\n"
     ]
    },
    {
     "data": {
      "application/vnd.jupyter.widget-view+json": {
       "model_id": "4d7d265266854cb99edad645f6ac95d5",
       "version_major": 2,
       "version_minor": 0
      },
      "text/plain": [
       "Training: |                                               | 0/? [00:00<?, ?it/s]"
      ]
     },
     "metadata": {},
     "output_type": "display_data"
    },
    {
     "data": {
      "application/vnd.jupyter.widget-view+json": {
       "model_id": "",
       "version_major": 2,
       "version_minor": 0
      },
      "text/plain": [
       "Validation: |                                             | 0/? [00:00<?, ?it/s]"
      ]
     },
     "metadata": {},
     "output_type": "display_data"
    },
    {
     "name": "stderr",
     "output_type": "stream",
     "text": [
      "Exception ignored in: <function _releaseLock at 0x7e505ef31c60>\n",
      "Traceback (most recent call last):\n",
      "  File \"/home/tourloid/anaconda3/envs/sparse/lib/python3.10/logging/__init__.py\", line 228, in _releaseLock\n",
      "    def _releaseLock():\n",
      "KeyboardInterrupt: \n"
     ]
    }
   ],
   "source": [
    "trainer.fit(model=model, train_dataloaders=tr_dl, val_dataloaders=te_dl)"
   ]
  },
  {
   "cell_type": "code",
   "execution_count": null,
   "id": "603e506c-fd03-4e3e-93b7-fc491de43750",
   "metadata": {},
   "outputs": [],
   "source": []
  }
 ],
 "metadata": {
  "kernelspec": {
   "display_name": "Python 3 (ipykernel)",
   "language": "python",
   "name": "python3"
  },
  "language_info": {
   "codemirror_mode": {
    "name": "ipython",
    "version": 3
   },
   "file_extension": ".py",
   "mimetype": "text/x-python",
   "name": "python",
   "nbconvert_exporter": "python",
   "pygments_lexer": "ipython3",
   "version": "3.10.14"
  }
 },
 "nbformat": 4,
 "nbformat_minor": 5
}
