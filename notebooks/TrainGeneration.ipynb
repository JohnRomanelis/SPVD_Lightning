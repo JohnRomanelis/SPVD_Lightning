{
 "cells": [
  {
   "cell_type": "code",
   "execution_count": null,
   "id": "a47f3ce7-9a8b-43d7-898e-423a3fa61eca",
   "metadata": {},
   "outputs": [],
   "source": [
    "# Move to the SPVD directory(SPVD/notebooks)\n",
    "%cd .."
   ]
  },
  {
   "cell_type": "markdown",
   "id": "60731c61-3f00-4f03-8fdd-6c93ba2120cf",
   "metadata": {},
   "source": [
    "# Training, Inference, and Testing of the SPVD model."
   ]
  },
  {
   "cell_type": "code",
   "execution_count": null,
   "id": "c8d89dde-6d51-43a1-92f0-409d243d1aa0",
   "metadata": {},
   "outputs": [],
   "source": [
    "# Imports\n",
    "import torch\n",
    "import lightning as L\n",
    "from models import *\n",
    "from lightning.pytorch.callbacks import ModelCheckpoint\n",
    "from datasets.shapenet_pointflow_sparse import get_dataloaders\n",
    "path = \"/home/vvrbeast/Desktop/Giannis/Data/ShapeNetCore.v2.PC15k\"\n",
    "path = '/home/tourloid/Desktop/PhD/Data/ShapeNetCore.v2.PC15k/'\n",
    "\n",
    "#optimization for speed \n",
    "torch.set_float32_matmul_precision('medium')"
   ]
  },
  {
   "cell_type": "markdown",
   "id": "dfd3a856-00b1-4aa4-b751-0f31c6bf0a7b",
   "metadata": {},
   "source": [
    "# Parameters"
   ]
  },
  {
   "cell_type": "code",
   "execution_count": null,
   "id": "60d155fa-d703-4e72-b5a2-0887307c8ebc",
   "metadata": {},
   "outputs": [],
   "source": [
    "# This version will not be exported as it will be replaced with argparse\n",
    "version = 'S' # S, M, L\n",
    "categories = ['car']\n",
    "ckpt_name = 'SPVD'\n",
    "epochs = 2\n",
    "lr = 0.0001"
   ]
  },
  {
   "cell_type": "markdown",
   "id": "1b6eadc0-f497-47f2-9e5c-62e9d2a19cd3",
   "metadata": {},
   "source": [
    "## Initializing the model"
   ]
  },
  {
   "cell_type": "code",
   "execution_count": null,
   "id": "35b4e2e0-0663-4002-9fb7-b40c8b895b42",
   "metadata": {},
   "outputs": [],
   "source": [
    "if version == 'S':\n",
    "    m = SPVD_S()\n",
    "elif version == 'M':\n",
    "    m = SPVD()\n",
    "elif version == 'L':\n",
    "    m = SPVD_L()\n",
    "\n",
    "model = DiffusionBase(m, lr=lr)"
   ]
  },
  {
   "cell_type": "markdown",
   "id": "4f78bbe1-578c-46ab-be1e-af43fc11707a",
   "metadata": {},
   "source": [
    "## Dataset and Dataloader"
   ]
  },
  {
   "cell_type": "code",
   "execution_count": null,
   "id": "9eda4280-c4ec-4bd2-8db2-456c93ae87bb",
   "metadata": {},
   "outputs": [],
   "source": [
    "tr_dl, te_dl = get_dataloaders(path, categories)"
   ]
  },
  {
   "cell_type": "markdown",
   "id": "2d739024-5c64-4169-9f30-7773aa344ddb",
   "metadata": {},
   "source": [
    "## Training"
   ]
  },
  {
   "cell_type": "code",
   "execution_count": null,
   "id": "0795c074-cb42-48d8-b2dc-4b9376fc9f78",
   "metadata": {},
   "outputs": [],
   "source": [
    "checkpoint_callback = ModelCheckpoint(dirpath='checkpoints/', filename=ckpt_name)\n",
    "\n",
    "trainer = L.Trainer(\n",
    "    max_epochs=epochs, \n",
    "    gradient_clip_val=10.0, \n",
    "    callbacks=[checkpoint_callback]\n",
    ")"
   ]
  },
  {
   "cell_type": "code",
   "execution_count": null,
   "id": "2110ad59-43a6-492e-92cc-c11ba6f58067",
   "metadata": {},
   "outputs": [],
   "source": [
    "trainer.fit(model=model, train_dataloaders=tr_dl, val_dataloaders=te_dl)"
   ]
  },
  {
   "cell_type": "markdown",
   "id": "3d748c34-c7af-4df1-b389-89c8e51a9f4d",
   "metadata": {},
   "source": [
    "# Inference"
   ]
  },
  {
   "cell_type": "code",
   "execution_count": null,
   "id": "8cd021b3-bb68-4a9f-9fc0-8416e30e8d17",
   "metadata": {},
   "outputs": [],
   "source": [
    "# Imports\n",
    "from utils.schedulers import DDPMSparseSchedulerGPU\n",
    "from utils.visualization import quick_vis_batch\n",
    "from functools import partial\n",
    "vis_batch = partial(quick_vis_batch, x_offset = 8, y_offset=8)"
   ]
  },
  {
   "cell_type": "code",
   "execution_count": null,
   "id": "54278b95-3f30-4281-b1bc-63abf4b499f2",
   "metadata": {},
   "outputs": [],
   "source": [
    "# Sending model to GPU and setting to eval mode:\n",
    "model = model.cuda().eval()"
   ]
  },
  {
   "cell_type": "code",
   "execution_count": null,
   "id": "5e310e0a-71bf-4ad9-8fa6-0871e6bdfa97",
   "metadata": {},
   "outputs": [],
   "source": [
    "ddpm_sched = DDPMSparseSchedulerGPU(n_steps=1000, beta_min=0.0001, beta_max=0.02, pres=1e-5)\n",
    "preds = ddpm_sched.sample(model.cuda(), 32, 2048)\n",
    "vis_batch(preds)"
   ]
  },
  {
   "cell_type": "markdown",
   "id": "73dcbd75-ea4a-4a76-8a8c-c586054f040c",
   "metadata": {},
   "source": [
    "# Test"
   ]
  },
  {
   "cell_type": "code",
   "execution_count": null,
   "id": "5ef5a8e9-00d7-4338-9d72-ced650a6c723",
   "metadata": {},
   "outputs": [],
   "source": [
    "from test_generation import evaluate_gen"
   ]
  },
  {
   "cell_type": "code",
   "execution_count": null,
   "id": "074d70e9-9590-40fc-91de-92ca9f3e8061",
   "metadata": {},
   "outputs": [],
   "source": [
    "ddpm_sched = DDPMSparseSchedulerGPU(n_steps=1000, beta_min=0.0001, beta_max=0.02, sigma='coef_bt')\n",
    "evaluate_gen(path, model, ddpm_sched, save_path='./results/', cates=categories)"
   ]
  },
  {
   "cell_type": "code",
   "execution_count": null,
   "id": "d1303176-3028-4290-a563-7297557b968c",
   "metadata": {},
   "outputs": [],
   "source": [
    "ddpm_sched = DDPMSparseSchedulerGPU(n_steps=1000, beta_min=0.0001, beta_max=0.02, sigma='coef_bt')\n",
    "evaluate_gen(path, model, ddpm_sched, save_path='./results/', cates=categories)"
   ]
  },
  {
   "cell_type": "code",
   "execution_count": null,
   "id": "a7e6c006-c2c3-4865-82ce-45be669b531a",
   "metadata": {},
   "outputs": [],
   "source": [
    "ddpm_sched = DDPMSparseSchedulerGPU(n_steps=1000, beta_min=0.0001, beta_max=0.02, sigma='coef_bt')\n",
    "evaluate_gen(path, model, ddpm_sched, save_path='./results/', cates=categories)"
   ]
  },
  {
   "cell_type": "code",
   "execution_count": null,
   "id": "1695517a-c696-4ccf-a587-2667398901db",
   "metadata": {},
   "outputs": [],
   "source": []
  }
 ],
 "metadata": {
  "kernelspec": {
   "display_name": "Python 3 (ipykernel)",
   "language": "python",
   "name": "python3"
  },
  "language_info": {
   "codemirror_mode": {
    "name": "ipython",
    "version": 3
   },
   "file_extension": ".py",
   "mimetype": "text/x-python",
   "name": "python",
   "nbconvert_exporter": "python",
   "pygments_lexer": "ipython3",
   "version": "3.10.14"
  }
 },
 "nbformat": 4,
 "nbformat_minor": 5
}
